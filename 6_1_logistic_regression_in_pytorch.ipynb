{
  "nbformat": 4,
  "nbformat_minor": 0,
  "metadata": {
    "colab": {
      "provenance": [],
      "gpuType": "T4",
      "authorship_tag": "ABX9TyMm3oOEL3b/RW+v+bJAsVct",
      "include_colab_link": true
    },
    "kernelspec": {
      "name": "python3",
      "display_name": "Python 3"
    },
    "language_info": {
      "name": "python"
    },
    "accelerator": "GPU"
  },
  "cells": [
    {
      "cell_type": "markdown",
      "metadata": {
        "id": "view-in-github",
        "colab_type": "text"
      },
      "source": [
        "<a href=\"https://colab.research.google.com/github/MJMortensonWarwick/ADA2425/blob/main/6_1_logistic_regression_in_pytorch.ipynb\" target=\"_parent\"><img src=\"https://colab.research.google.com/assets/colab-badge.svg\" alt=\"Open In Colab\"/></a>"
      ]
    },
    {
      "cell_type": "markdown",
      "source": [
        "# Logistic Regression in PyTorch\n",
        "This tutorial will first show you setting up a logistic regression, with a dataset we have used previously, in PyTorch. The aim is to give you a feel for how PyTorch works.\n",
        "\n",
        "We'll start with the stuff you've previously seen:"
      ],
      "metadata": {
        "id": "e7M4FXnHxhEe"
      }
    },
    {
      "cell_type": "code",
      "source": [
        "import torch\n",
        "import torch.nn as nn\n",
        "import torch.optim as optim\n",
        "from sklearn import datasets\n",
        "from sklearn.model_selection import train_test_split\n",
        "from sklearn.preprocessing import StandardScaler\n",
        "from sklearn.metrics import accuracy_score\n",
        "\n",
        "# Load dataset\n",
        "data = datasets.load_breast_cancer()\n",
        "X, y = data.data, data.target\n",
        "\n",
        "# Split dataset\n",
        "X_train, X_test, y_train, y_test = train_test_split(X, y, test_size=0.2, random_state=42)\n",
        "\n",
        "# Standardize features\n",
        "scaler = StandardScaler()\n",
        "X_train = scaler.fit_transform(X_train)\n",
        "X_test = scaler.transform(X_test)"
      ],
      "metadata": {
        "id": "gkHWk-4IxwYj"
      },
      "execution_count": 2,
      "outputs": []
    },
    {
      "cell_type": "markdown",
      "source": [
        "The above code takes the sklearn breast_cancer dataset, splits into train and test and then finally scales the data. Now we just need to convert this data into PyTorch's required datatype _tensors_ (see 6\\_X if you want to understand more about tensors)."
      ],
      "metadata": {
        "id": "W7-BFu0bx1x0"
      }
    },
    {
      "cell_type": "code",
      "source": [
        "# Convert to PyTorch tensors\n",
        "X_train = torch.tensor(X_train, dtype=torch.float32)\n",
        "X_test = torch.tensor(X_test, dtype=torch.float32)\n",
        "y_train = torch.tensor(y_train, dtype=torch.float32).unsqueeze(1)\n",
        "y_test = torch.tensor(y_test, dtype=torch.float32).unsqueeze(1)\n",
        "\n",
        "# Print an example\n",
        "print(X_train[:5])"
      ],
      "metadata": {
        "colab": {
          "base_uri": "https://localhost:8080/"
        },
        "id": "0DLh5YBYyKln",
        "outputId": "756c8b86-fe19-4311-cff1-0e6514724eb3"
      },
      "execution_count": 3,
      "outputs": [
        {
          "output_type": "stream",
          "name": "stdout",
          "text": [
            "tensor([[-1.4408, -0.4353, -1.3621, -1.1391,  0.7806,  0.7189,  2.8231, -0.1191,\n",
            "          1.0927,  2.4582, -0.2638, -0.0161, -0.4704, -0.4748,  0.8384,  3.2510,\n",
            "          8.4389,  3.3920,  2.6212,  2.0612, -1.2329, -0.4763, -1.2479, -0.9740,\n",
            "          0.7229,  1.1867,  4.6728,  0.9320,  2.0972,  1.8865],\n",
            "        [ 1.9741,  1.7330,  2.0917,  1.8520,  1.3198,  3.4263,  2.0131,  2.6650,\n",
            "          2.1270,  1.5584,  0.8053, -0.8127,  0.7520,  0.8772, -0.8961,  1.1812,\n",
            "          0.1836,  0.6006, -0.3177,  0.5296,  2.1733,  1.3113,  2.0816,  2.1374,\n",
            "          0.7619,  3.2656,  1.9286,  2.6989,  1.8912,  2.4978],\n",
            "        [-1.4000, -1.2496, -1.3452, -1.1098, -1.3326, -0.3074, -0.3656, -0.6965,\n",
            "          1.9303,  0.9544,  0.0275,  1.9631, -0.1210, -0.3508,  0.5728,  0.7395,\n",
            "          0.3207,  0.5895,  2.6150,  0.7189, -1.2953, -1.0408, -1.2452, -0.9997,\n",
            "         -1.4387, -0.5486, -0.6449, -0.9702,  0.5976,  0.0579],\n",
            "        [-0.9818,  1.4162, -0.9826, -0.8669,  0.0594, -0.5968, -0.8202, -0.8451,\n",
            "          0.3133,  0.0740, -0.5385,  0.5365, -0.6579, -0.4966,  0.0655, -0.8224,\n",
            "         -0.6856, -0.8985,  0.1233, -0.4315, -0.8292,  1.5935, -0.8736, -0.7429,\n",
            "          0.7966, -0.7294, -0.7749, -0.8095,  0.7989, -0.1345],\n",
            "        [-1.1177, -1.0103, -1.1250, -0.9659,  1.2695, -0.4390, -0.9833, -0.9306,\n",
            "          3.3944,  0.9502,  0.4023,  0.4404,  0.2193, -0.1155,  0.1719, -0.7880,\n",
            "         -0.7835, -0.5886,  2.6040,  0.7660, -1.0851, -1.3346, -1.1171, -0.8965,\n",
            "         -0.1749, -0.9951, -1.2091, -1.3546,  1.0335, -0.2057]])\n"
          ]
        }
      ]
    },
    {
      "cell_type": "markdown",
      "source": [
        "Now we have sorted out the data, we can specify our model. Note this is much more customisable in PyTorch, but that also means the code is more complicated:"
      ],
      "metadata": {
        "id": "tYPOH2T7ySli"
      }
    },
    {
      "cell_type": "code",
      "source": [
        "# Define logistic regression model\n",
        "class LogisticRegression(nn.Module):\n",
        "    def __init__(self, input_dim):\n",
        "        super(LogisticRegression, self).__init__()\n",
        "        self.linear = nn.Linear(input_dim, 1)\n",
        "\n",
        "    def forward(self, x):\n",
        "        return torch.sigmoid(self.linear(x))"
      ],
      "metadata": {
        "id": "SNRzxQRvyRuv"
      },
      "execution_count": 4,
      "outputs": []
    },
    {
      "cell_type": "markdown",
      "source": [
        "This code defines a custom class we create called _LogisticRegression_, which inherits from PyTorch's _nn.Module_ (i.e. it uses PyTorch's nn.Module as a template). This is the standard way to define models in PyTorch. The class encapsulates the structure and behavior of our logistic regression model.\n",
        "<br><br><br>\n",
        "__Step-by-step explanation:__\n",
        "\n",
        "1. _class LogisticRegression(nn.Module)_: This line defines the class and indicates that it's a subclass of nn.Module.\n",
        "2. _def \\_\\_init\\__(self, input_dim)_: This is the constructor of the class (the thing that builds objects of this class). It takes the input_dim as an argument, which represents the number of features in the input data.\n",
        "3. _super(LogisticRegression, self).\\_\\_init\\__()_: This line initializes the parent class (nn.Module), ensuring that all necessary setup is done. I.e. if we create an object of this class, then this step builds the actual object according to our template we are defining.\n",
        "4. _self.linear = nn.Linear(input_dim, 1)_: This line creates a linear layer, which is the core component of our logistic regression model. It takes input_dim features as input and produces a single output (for binary classification).\n",
        "5. _def forward(self, x)_: This method defines the forward pass of the model, which is how input data is transformed into predictions.\n",
        "6. _return torch.sigmoid(self.linear(x))_: This line performs the following steps (steps 7 and 8):\n",
        "7. _self.linear(x)_: Applies the linear layer to the input x.\n",
        "8. _torch.sigmoid(...)_: Applies the sigmoid function to the output of the linear layer, producing a probability between 0 and 1. This probability represents the model's prediction for the given input.\n",
        "<br><br><br>\n",
        "Now we have defined the class (our model specification essentially), we can create an object of this class. As per the _def \\__init\\__(self, input\\_dim)_ command above (step 2), when we build an object we need to specify the _input\\_dim_ (number of features in the input)."
      ],
      "metadata": {
        "id": "z5HWdHFPyls9"
      }
    },
    {
      "cell_type": "code",
      "source": [
        "# Initialize model\n",
        "input_dim = X_train.shape[1]\n",
        "model = LogisticRegression(input_dim)"
      ],
      "metadata": {
        "id": "NxmLrfbF1d8w"
      },
      "execution_count": 5,
      "outputs": []
    },
    {
      "cell_type": "markdown",
      "source": [
        "We have built an object of the class template called _model_ much as we did with sklearn (the only difference is that sklearn had the class template already built for us so all we had to do was import it). We also need to pass a couple of hyperparameters - the loss function (criterion) and the optimiser we want to use (we'll come back to optimisers next week):"
      ],
      "metadata": {
        "id": "SaQsYW-P1j7F"
      }
    },
    {
      "cell_type": "code",
      "source": [
        "# Define loss and optimizer\n",
        "criterion = nn.BCELoss()\n",
        "optimizer = optim.SGD(model.parameters(), lr=0.01)"
      ],
      "metadata": {
        "id": "VrJ2Vczy1jNd"
      },
      "execution_count": 6,
      "outputs": []
    },
    {
      "cell_type": "markdown",
      "source": [
        "With everything setup, we can begin training! Again this is a more manual process in PyTorch, but is still fundamentally the same:"
      ],
      "metadata": {
        "id": "clyJC6zz2W63"
      }
    },
    {
      "cell_type": "code",
      "source": [
        "# Training loop\n",
        "epochs = 100 # specify 100 epochs (full passes through the data)\n",
        "\n",
        "for epoch in range(epochs):\n",
        "    model.train() # put the model object in train mode\n",
        "    optimizer.zero_grad() # reset the gradient (next week)\n",
        "    outputs = model(X_train) # pass the X_train data\n",
        "\n",
        "    # calculate loss as the comparison between predictions (y_hat) and\n",
        "    # real values (y) according to our loss function (criterion)\n",
        "    loss = criterion(outputs, y_train)\n",
        "    loss.backward() # backpropogate loss (next week)\n",
        "    optimizer.step() # update the parameters based on this round of training\n",
        "\n",
        "    # every 10 steps we will print out the current loss\n",
        "    if (epoch+1) % 10 == 0: # modular arithmetic\n",
        "        print(f'Epoch [{epoch+1}/{epochs}], Loss: {round(loss.item(), 4)}')"
      ],
      "metadata": {
        "colab": {
          "base_uri": "https://localhost:8080/"
        },
        "id": "GjX1tYB72eRZ",
        "outputId": "37326973-e0ab-441b-e7e5-0cdec462c645"
      },
      "execution_count": 9,
      "outputs": [
        {
          "output_type": "stream",
          "name": "stdout",
          "text": [
            "Epoch [10/100], Loss: 0.6943\n",
            "Epoch [20/100], Loss: 0.5493\n",
            "Epoch [30/100], Loss: 0.4632\n",
            "Epoch [40/100], Loss: 0.4068\n",
            "Epoch [50/100], Loss: 0.3669\n",
            "Epoch [60/100], Loss: 0.3372\n",
            "Epoch [70/100], Loss: 0.3139\n",
            "Epoch [80/100], Loss: 0.2952\n",
            "Epoch [90/100], Loss: 0.2797\n",
            "Epoch [100/100], Loss: 0.2666\n"
          ]
        }
      ]
    },
    {
      "cell_type": "markdown",
      "source": [
        "We can see that loss decreasing each time we print, which is what we would expect! But how does the module perform on test data?"
      ],
      "metadata": {
        "id": "j9LfcOsF4hku"
      }
    },
    {
      "cell_type": "code",
      "execution_count": 10,
      "metadata": {
        "colab": {
          "base_uri": "https://localhost:8080/"
        },
        "id": "Rd97eUwdxJw5",
        "outputId": "d0b110f1-bc9d-45e8-d045-308cd16a27f1"
      },
      "outputs": [
        {
          "output_type": "stream",
          "name": "stdout",
          "text": [
            "Accuracy: 0.9737\n"
          ]
        }
      ],
      "source": [
        "# Evaluation\n",
        "model.eval() # switch to testing mode\n",
        "with torch.no_grad(): # turn off the gradient (stop training)\n",
        "    y_pred = model(X_test) # pass the X_test data\n",
        "\n",
        "    # if the output < 0.5 then class 0 and else class 1\n",
        "    y_pred = (y_pred >= 0.5).float()\n",
        "    accuracy = accuracy_score(y_test.numpy(), y_pred.numpy())\n",
        "    print(f'Accuracy: {round(accuracy, 4)}')"
      ]
    },
    {
      "cell_type": "markdown",
      "source": [
        "Accuracy looks good! How about a confusion matrix?"
      ],
      "metadata": {
        "id": "kkAA3fUr5Xdz"
      }
    },
    {
      "cell_type": "code",
      "source": [
        "from sklearn.metrics import ConfusionMatrixDisplay as CM\n",
        "import numpy as np\n",
        "\n",
        "# Convert tensors to NumPy arrays\n",
        "y_test_np = y_test.numpy()\n",
        "y_pred_np = y_pred.numpy()\n",
        "\n",
        "CM.from_predictions(y_test_np, y_pred_np)"
      ],
      "metadata": {
        "colab": {
          "base_uri": "https://localhost:8080/",
          "height": 472
        },
        "id": "wV5nZppC5Wvv",
        "outputId": "e3028fe1-6238-4b4e-f656-9ad432aa97e6"
      },
      "execution_count": 12,
      "outputs": [
        {
          "output_type": "execute_result",
          "data": {
            "text/plain": [
              "<sklearn.metrics._plot.confusion_matrix.ConfusionMatrixDisplay at 0x7813947a7550>"
            ]
          },
          "metadata": {},
          "execution_count": 12
        },
        {
          "output_type": "display_data",
          "data": {
            "text/plain": [
              "<Figure size 640x480 with 2 Axes>"
            ],
            "image/png": "[encoded data removed]"
          },
          "metadata": {}
        }
      ]
    },
    {
      "cell_type": "markdown",
      "source": [
        "This is the same code as AiP (basically) and we can see it gives us good results!\n",
        "\n",
        "Overall we should be able to see this is a very similar process. However, unlike in AiP/sklearn, this is a much more manual process in places. This means the code is a little more hardwork, but gives us much more flexibility to define the model how we want. For logistic regression we are just following the standard template of the algorithm. However, as we move on into deep learning we will see this flexibility is basically the job ... the key hyperparameters are how we define these different layers and transformations."
      ],
      "metadata": {
        "id": "02t5nq306OyT"
      }
    }
  ]
}